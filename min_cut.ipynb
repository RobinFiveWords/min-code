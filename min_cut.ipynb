{
 "cells": [
  {
   "cell_type": "markdown",
   "id": "acb988be-ae37-446d-9812-2f14ab00c23d",
   "metadata": {},
   "source": [
    "# Min-Code: How little code will suffice to write min-cut from scratch?"
   ]
  },
  {
   "cell_type": "markdown",
   "id": "d172f942-3000-40ca-a349-05a42bcb22a8",
   "metadata": {},
   "source": [
    "## 2024-08-26: Intro\n",
    "\n",
    "<a href=\"https://adventofcode.com/2023/day/25\">Day 25</a> of <a href=\"https://adventofcode.com/2023\">Advent of Code 2023</a> describes a highly-interconnected network that can be split in two by cutting three specific wires. Our main job is to identify those three wires. This is known as finding a <a href=\"https://en.wikipedia.org/wiki/Minimum_cut\">minimum cut</a>.\n",
    "\n",
    "When a simple algorithm is needed, I often like to write it from scratch each time, using only built-ins and standard libraries. (Inspirations include the <a href=\"https://www.reddit.com/r/adventofcode/\">Advent of Code subreddit</a>, <a href=\"https://github.com/norvig/pytudes#pytudes-index-of-jupyter-ipython-notebooks\">Peter Norvig</a>, and <a href=\"https://www.youtube.com/watch?v=j6VSAsKAj98\">David Beazley</a>.) By the sixth or seventh time I wrote a breadth-first search, I did it without any conscious doubt about how I was doing it. But that was BFS.\n",
    "\n",
    "I read about maxflows and mincuts in Sedgewick's <a href=\"https://algs4.cs.princeton.edu/\">Algorithms</a>. Their Java code for maxflow problems includes several classes but is quite general. Some classes contain many attributes and methods that I wouldn't need to solve Day 25. I wondered whether I could simplify Sedgewick's approach enough to rewrite it from scratch, in Python, and still get a decent night's sleep. My main problem was that I didn't really understand the <a href=\"https://en.wikipedia.org/wiki/Ford%E2%80%93Fulkerson_algorithm\">Ford–Fulkerson algorithm</a>, and how to identify the residual network in Sedgewick's implementation so as to find a minimum cut. As of starting this project, I still don't.\n",
    "\n",
    "Instead, to collect the last of my 50 stars that night — disclaimer: it was January 30, not December 24 — I took a brute-force approach and eventually came up with a simplifying assumption that, although not guaranteed to produce the correct answer, did so in under ten seconds runtime. A few months later, I used <a href=\"https://networkx.org/documentation/stable/\">NetworkX</a> to write an almost trivial solution to the problem, letting the `minimum_edge_cut` and `connected_components` functions do the hard work. NetworkX seems pretty great, and there's probably no reason to avoid using it if I'm already working in Python.\n",
    "\n",
    "But now it's time to return to my original objective. Can I simplify min-cut enough so that I can write it from scratch as needed?"
   ]
  }
 ],
 "metadata": {
  "kernelspec": {
   "display_name": "Python 3 (ipykernel)",
   "language": "python",
   "name": "python3"
  },
  "language_info": {
   "codemirror_mode": {
    "name": "ipython",
    "version": 3
   },
   "file_extension": ".py",
   "mimetype": "text/x-python",
   "name": "python",
   "nbconvert_exporter": "python",
   "pygments_lexer": "ipython3",
   "version": "3.11.5"
  }
 },
 "nbformat": 4,
 "nbformat_minor": 5
}
