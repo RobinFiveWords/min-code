{
 "cells": [
  {
   "cell_type": "markdown",
   "id": "acb988be-ae37-446d-9812-2f14ab00c23d",
   "metadata": {},
   "source": [
    "# Min-Code: How little code will suffice to write min-cut from scratch?"
   ]
  },
  {
   "cell_type": "markdown",
   "id": "d172f942-3000-40ca-a349-05a42bcb22a8",
   "metadata": {},
   "source": [
    "## 2024-08-26: Intro\n",
    "\n",
    "<a href=\"https://adventofcode.com/2023/day/25\">Day 25</a> of <a href=\"https://adventofcode.com/2023\">Advent of Code 2023</a> describes a highly-interconnected network that can be split in two by cutting three specific wires. Our main job is to identify those three wires. This is known as finding a <a href=\"https://en.wikipedia.org/wiki/Minimum_cut\">minimum cut</a>.\n",
    "\n",
    "When a simple algorithm is needed, I often like to write it from scratch each time, using only built-ins and standard libraries. (Inspirations include the <a href=\"https://www.reddit.com/r/adventofcode/\">Advent of Code subreddit</a>, <a href=\"https://github.com/norvig/pytudes#pytudes-index-of-jupyter-ipython-notebooks\">Peter Norvig</a>, and <a href=\"https://www.youtube.com/watch?v=j6VSAsKAj98\">David Beazley</a>.) By the sixth or seventh time I wrote a breadth-first search, I did it without any conscious doubt about how I was doing it. But that was BFS.\n",
    "\n",
    "I read about maxflows and mincuts in Sedgewick's <a href=\"https://algs4.cs.princeton.edu/\">Algorithms</a>. Their Java code for maxflow problems includes several classes but is quite general. Some classes contain many attributes and methods that I wouldn't need to solve Day 25. I wondered whether I could simplify Sedgewick's approach enough to rewrite it from scratch, in Python, and still get a decent night's sleep. My main problem was that I didn't really understand the <a href=\"https://en.wikipedia.org/wiki/Ford%E2%80%93Fulkerson_algorithm\">Ford–Fulkerson algorithm</a>, and how to identify the residual network in Sedgewick's implementation so as to find a minimum cut. As of starting this project, I still don't.\n",
    "\n",
    "Instead, to collect the last of my 50 stars that night — disclaimer: it was January 30, not December 24 — I took a brute-force approach and eventually came up with a simplifying assumption that, although not guaranteed to produce the correct answer, did so in under ten seconds runtime. A few months later, I used <a href=\"https://networkx.org/documentation/stable/\">NetworkX</a> to write an almost trivial solution to the problem, letting the `minimum_edge_cut` and `connected_components` functions do the hard work. NetworkX seems pretty great, and there's probably no reason to avoid using it if I'm already working in Python.\n",
    "\n",
    "But now it's time to return to my original objective. Can I simplify min-cut enough so that I can write it from scratch as needed?"
   ]
  },
  {
   "cell_type": "markdown",
   "id": "ead05492-5460-4288-9595-589f1f570144",
   "metadata": {},
   "source": [
    "## 2024-08-27: Initial solution\n",
    "\n",
    "Before diving any deeper, I'll describe a cleaned-up version of my <a href=\"https://github.com/RobinFiveWords/AdventOfCode/blob/main/2023/day25.py\">initial solution</a>. If we accept that our starting graph (network) has just one connected component — from any given vertex we can reach every other vertex — then we can test any potential solution by removing its three edges (wires) from the graph and rechecking whether, in this modified graph, from any given vertex we can reach every other vertex. To check the modified graph, we can arbitrarily pick a vertex and do a depth-first search, counting how many vertices we reach. If it is less than the total number of vertices, we have our solution.\n",
    "\n",
    "I couldn't just brute-force it. My puzzle input had 1,514 vertices connected by 3,385 edges, meaning I would potentially have to test\n",
    "$$\n",
    "\\frac{3{,}385 \\times 3{,}384 \\times 3{,}383}{3 \\times 2 \\times 1} = 38{,}751{,}723{,}720 \\nonumber\n",
    "$$\n",
    "combinations of three edges. So I looked for a way to reduce the number of possible solutions I would consider.\n",
    "\n",
    "The assumption I came up with was that the three edges in the solution would connect vertices — let's call these the solution vertices — that were \"closer\" to all other vertices, on average, than most other vertices were. In other words, if for any given vertex I added up the shortest number of edges that would need to be traversed to reach each other vertex, the solution vertices would be among the vertices with the lowest sums.\n",
    "\n",
    "For my reasoning, let's consider one of the edges in the solution to be $X{\\textendash}Y$, connecting vertices $X$ and $Y$. In the modified graph, let's say $X$ is in connected component $A$, and $Y$ is in connected component $B$. We still want to focus on the original, connected graph, but with each vertex belonging to either $A$ or $B$. Now let's consider all the vertices in $A$ other than $X$ for which $X{\\textendash}Y$ is the closest solution edge. For these vertices in $A$, their shortest path to reach any vertex in $B$ is through $X$, which means they are farther from every vertex in $B$ than $X$ is. If $X$ is closer to many other vertices than many others are, perhaps on average it is closer to _all_ other vertices than _most_ others are.\n",
    "\n",
    "For each vertex, I did a breadth-first search to compute the sum of its distances from each other vertex. I then identified any edge in the graph whose vertices were both among the 100 with the lowest total distance. There were 105 such edges, meaning I would only have to test\n",
    "$$\n",
    "\\frac{105 \\times 104 \\times 103}{3 \\times 2 \\times 1} = 187{,}460 \\nonumber\n",
    "$$\n",
    "combinations of three edges. One of these turned out to be the solution."
   ]
  },
  {
   "cell_type": "markdown",
   "id": "0243849e-42ff-4091-ba87-5de2fa5f67db",
   "metadata": {},
   "source": [
    "## 2024-08-28: Test graph\n",
    "\n",
    "I'm not going to understand this unless I draw an example and carry out the algorithm by hand. I decided to try using the Day 25 test example, which has 15 vertices and 33 edges. This may turn out to be too large to learn on, but I'm hoping that its complexity will help me test my conclusions.\n",
    "\n",
    "I started by drawing the test graph by hand, to see whether I would have any layout issues.\n",
    "\n",
    "<div align=\"center\">\n",
    "    <img src=\"img/20240828_1.jpeg\"\n",
    "        style=\"max-height:400px\"\n",
    "        alt=\"Hand-drawn graph with 15 vertices and 33 edges.\" />\n",
    "</div>\n",
    "\n",
    "This looked pretty good, so I created a cleaner version in <a href=\"https://app.diagrams.net/\">draw.io</a>:\n",
    "\n",
    "<div align=\"center\">\n",
    "    <img src=\"img/20240828_2.png\"\n",
    "        alt=\"Same graph created with draw.io.\" />\n",
    "</div>\n",
    "\n",
    "Shortly after, I realized that I didn't know how to add a source and a sink to turn the graph into a flow network. After a lot of research, I came across <a href=\"https://math.stackexchange.com/questions/744276/minimum-cut-algorithm-on-undirected-graph-with-no-source-or-sink\">my exact question</a> on Stack Exchange. The answer seems to be to pick any vertex as the sink, and then for each other vertex, compute the maxflow with that vertex as the source. Any of the results with the smallest maxflow will lead to a minimum cut."
   ]
  },
  {
   "attachments": {},
   "cell_type": "markdown",
   "id": "753fd3bd-ed63-4c89-aa86-3c95c5f256df",
   "metadata": {},
   "source": [
    "## 2024-08-29: First case\n",
    "\n",
    "I'll turn the test graph into a flow network by choosing one vertex as the source and another as the sink. For more than a day, my curiosity has been nagging me with the question of how to find the _first_ path between the source and the sink. I'm going to leave that unexplored for now — if I'm not mistaken, it will follow the same rules as how to find an _augmenting path_ for any in-pogress state of the network. I want to understand what the next step is for at least a few in-progress cases:\n",
    "\n",
    "- The first path snakes through all of the solution edges, so that finding a maxflow will require reversing the flow across one of the solution edges.\n",
    "- The first path crosses exactly one solution edge; the source and sink are in different components of the modified graph.\n",
    "- The source and sink are in the same component, are connected by an edge, and the first path simply traverses that edge.\n",
    "\n",
    "I felt that this last case would be the best starting example, and I chose `qnr` as the source and `frs` as the sink.\n",
    "\n",
    "Sidebar on a maximum flow's upper limit: In an unweighted graph, the maximum flow is at most the number of edges coming out of the source, and also at most the number of edges going into the sink. In a weighted graph, it's the total capacity of those edges.\n",
    "\n",
    "`qnr` has four edges coming out, and `frs` has four edges going in. The maximum flow from `qnr` to `frs` is indeed 4, with the following paths as one possibility:\n",
    "\n",
    "```\n",
    "qnr - frs\n",
    "qnr - rzs - rsh - frs\n",
    "qnr - cmg - lhk - frs\n",
    "qnr - nvd - pzl - lsr - frs\n",
    "```\n",
    "\n",
    "<div align=\"center\">\n",
    "    <img src=\"img/20240829_1.png\"\n",
    "        alt=\"Test graph with source qnr, sink frs, and the four paths indicated in the text.\" />\n",
    "</div>\n",
    "\n",
    "The first case I wanted to consider is where the first three paths have already been added to the flow network, but `qnr - nvd - pzl - lsr - frs` has not:\n",
    "\n",
    "<div align=\"center\">\n",
    "    <img src=\"img/20240829_2.png\"\n",
    "        alt=\"Test graph with source qnr, sink frs, and the first three of the paths indicated in the text.\" />\n",
    "</div>\n",
    "\n",
    "And the question is, how do I find an augmenting path for this flow network in this state?"
   ]
  }
 ],
 "metadata": {
  "kernelspec": {
   "display_name": "Python 3 (ipykernel)",
   "language": "python",
   "name": "python3"
  },
  "language_info": {
   "codemirror_mode": {
    "name": "ipython",
    "version": 3
   },
   "file_extension": ".py",
   "mimetype": "text/x-python",
   "name": "python",
   "nbconvert_exporter": "python",
   "pygments_lexer": "ipython3",
   "version": "3.11.5"
  }
 },
 "nbformat": 4,
 "nbformat_minor": 5
}
