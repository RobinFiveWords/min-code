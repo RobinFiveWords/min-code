{
 "cells": [
  {
   "cell_type": "markdown",
   "id": "b5a1bad7-82f5-42db-b1aa-8c74c0eb4291",
   "metadata": {},
   "source": [
    "# Min-Code: Can I write my own code to carry out the simplex algorithm?"
   ]
  },
  {
   "cell_type": "markdown",
   "id": "e6934c47-deb5-4b4e-aae9-4f10b40f2380",
   "metadata": {},
   "source": [
    "## 2024-09-19: Intro\n",
    "\n",
    "I've started to wrap my head around optimization problems again. If I recall correctly, my first exposure to really analyzing these problems was working through [Data Smart](https://www.amazon.com/Data-Smart-Science-Transform-Information/dp/111866146X). Back then I still spent most of my time in Excel, and plugging cell references into a solver was the next logical step for me. These days I want to see how it all works.\n",
    "\n",
    "I've started reading through the Wikipedia article on the [simplex algorithm](https://en.wikipedia.org/wiki/Simplex_algorithm), which feels approachable and seems thorough. It gives me the impression that the algorithm breaks down into a relatively small number of steps, and so far none of the steps seems like I'll need a doctorate in math to follow along. I recently worked through [integer programming in SciPy](https://docs.scipy.org/doc/scipy/reference/generated/scipy.optimize.milp.html) in an afternoon, well enough to figure out the default solver was quitting on me early because of the default relative tolerance setting. So writing the code myself seems possible, perhaps even without looking up other implementations.\n",
    "\n",
    "Part of what I feel makes robust implementations a challenge to follow is that they're written to handle all cases and to fail nicely. That's not my goal here. I may not bother to handle unbounded cases with no solution, or check for a feasible region. I'm assuming I'll be given a bounded convex polytope and a feasible objective function, and I'll find an initial vertex and then walk the edges."
   ]
  }
 ],
 "metadata": {
  "kernelspec": {
   "display_name": "Python 3 (ipykernel)",
   "language": "python",
   "name": "python3"
  },
  "language_info": {
   "codemirror_mode": {
    "name": "ipython",
    "version": 3
   },
   "file_extension": ".py",
   "mimetype": "text/x-python",
   "name": "python",
   "nbconvert_exporter": "python",
   "pygments_lexer": "ipython3",
   "version": "3.11.5"
  }
 },
 "nbformat": 4,
 "nbformat_minor": 5
}
